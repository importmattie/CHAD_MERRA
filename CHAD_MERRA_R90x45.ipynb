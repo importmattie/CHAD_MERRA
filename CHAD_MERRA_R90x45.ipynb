{
 "cells": [
  {
   "cell_type": "markdown",
   "metadata": {},
   "source": [
    "## Clickable Histogram of Atmospheric Data (CHAD)\n",
    "### *(Clickable Histogram (ClickHist) + Atmospheric Data Input)*\n",
    "\n",
    "Author: [Mattie Niznik](http://importmattie.github.io) ([mattie.niznik@princeton.edu](mailto:mattie.niznik@princeton.edu))<br>\n",
    "Post-Doctoral Associate,\n",
    "[RSMAS](http://rsmas.miami.edu/),\n",
    "[University of Miami](http://welcome.miami.edu/)\n",
    "\n",
    "For more information, see:<br>\n",
    "https://github.com/importmattie/ClickHist/wiki<br>\n"
   ]
  },
  {
   "cell_type": "markdown",
   "metadata": {},
   "source": [
    "# Let's get started.\n",
    "## (1) Setting Input/Output Files\n",
    "## First, you need to chose the *template* bundle.\n",
    "### This is an IDV bundle with your desired data and displays that ClickHist will alter to focus on the time and location relevant to scatter points you select.\n",
    "**Note:** The first bundle in both lists here will be the one referenced in the later script that generates images, movies, and a .zidv file. It should probably be the \"full\" bundle with the variables you want to study."
   ]
  },
  {
   "cell_type": "code",
   "execution_count": null,
   "metadata": {
    "collapsed": true
   },
   "outputs": [],
   "source": [
    "bundleInFilenames = ['ClickHist_merraTrmmIR_simple']\n",
    "bundleOutTags = ['simple']"
   ]
  },
  {
   "cell_type": "markdown",
   "metadata": {},
   "source": [
    "## Now, pick a Tag for this session's *Case Notebooks*.\n",
    "#### This is a notebook that will be generated separately from this one containing snapshots of ClickHists and other images related to each case you select.\n",
    "This way, without much extra effort you can remember what you were working on!"
   ]
  },
  {
   "cell_type": "code",
   "execution_count": null,
   "metadata": {
    "collapsed": true
   },
   "outputs": [],
   "source": [
    "caseNotebookFilename = 'Session1'"
   ]
  },
  {
   "cell_type": "markdown",
   "metadata": {},
   "source": [
    "## (2) Set the variables, data sources, and other necessary information.\n",
    "### What geographic subset are you interested in exploring?\n",
    "\n",
    "Longitude: 0 through 360 (Degrees East)<br>\n",
    "Latitude: -90 through 90 (Degrees North)<br>"
   ]
  },
  {
   "cell_type": "code",
   "execution_count": null,
   "metadata": {
    "collapsed": true
   },
   "outputs": [],
   "source": [
    "lonLow = -160.\n",
    "lonHigh = -120.\n",
    "latLow = -25.0\n",
    "latHigh = 15.0"
   ]
  },
  {
   "cell_type": "code",
   "execution_count": null,
   "metadata": {
    "collapsed": true
   },
   "outputs": [],
   "source": [
    "urlToLoad = ('http://weather.rsmas.miami.edu/repository/opendap/synth:5ca43f0f-38f6-41e7-b66b-a8f8f593df6a:L01FUlJBX1RSTU0zQjQyXzJkZWdfMTk5OC0yMDEzX3ByZWN0b3RfcnIubmM=/entry.das')"
   ]
  },
  {
   "cell_type": "markdown",
   "metadata": {},
   "source": [
    "### Now let's get some information on the variables you want\n",
    "\n",
    "**For this data, we've preprogrammed all of the units and data into a module so you just have to pick from a list of options (case sensitive):**<br>\n",
    "Precip_MERRA, Precip_TRMM"
   ]
  },
  {
   "cell_type": "code",
   "execution_count": null,
   "metadata": {
    "collapsed": true
   },
   "outputs": [],
   "source": [
    "var1Name = 'Precip_MERRA'\n",
    "var2Name = 'Precip_TRMM'"
   ]
  },
  {
   "cell_type": "markdown",
   "metadata": {},
   "source": [
    "### Set how large you want the IDV bundle to be in space and time\n",
    "#### Each of these is calculated as distance from center, so `lonOffset = 1.0` means 2.0° of longitude.\n",
    "#### `dtFromCenter` needs to be in seconds"
   ]
  },
  {
   "cell_type": "code",
   "execution_count": null,
   "metadata": {
    "collapsed": true
   },
   "outputs": [],
   "source": [
    "lonOffset = 10.0\n",
    "latOffset = 10.0\n",
    "dtFromCenter = 73*3600"
   ]
  },
  {
   "cell_type": "markdown",
   "metadata": {},
   "source": [
    "### Would you like specific quantiles indicated in X and Y?\n",
    "**If so, specify them here.**"
   ]
  },
  {
   "cell_type": "code",
   "execution_count": null,
   "metadata": {
    "collapsed": true
   },
   "outputs": [],
   "source": [
    "quantiles = [0.01,0.1,1,5,95,99,99.9,99.99]"
   ]
  },
  {
   "cell_type": "markdown",
   "metadata": {},
   "source": [
    "### Import the necessary modules needed for CHAD to work"
   ]
  },
  {
   "cell_type": "markdown",
   "metadata": {},
   "source": [
    "*Currently supported graphics backends are Qt4Agg ('qt4') and TK ('tk')*"
   ]
  },
  {
   "cell_type": "code",
   "execution_count": null,
   "metadata": {
    "collapsed": false
   },
   "outputs": [],
   "source": [
    "#%matplotlib tk\n",
    "%matplotlib qt4\n",
    "import matplotlib\n",
    "#matplotlib.use('TkAgg')\n",
    "#matplotlib.use('Qt4Agg')\n",
    "\n",
    "from IPython.display import clear_output\n",
    "import netCDF4\n",
    "import sys\n",
    "\n",
    "import ClickHist_MERRA as ClickHist\n",
    "import ClickHistDo_MERRA as ClickHistDo\n",
    "import loadmod_MERRA"
   ]
  },
  {
   "cell_type": "markdown",
   "metadata": {},
   "source": [
    "#### This call is necessary to make sure the output displays properly\n",
    "\n",
    "(If interested in the details, see: http://bit.ly/1SsishU)"
   ]
  },
  {
   "cell_type": "code",
   "execution_count": null,
   "metadata": {
    "collapsed": true
   },
   "outputs": [],
   "source": [
    "oldsysstdout = sys.stdout\n",
    "sys.stdout = loadmod_MERRA.flushfile(sys.stdout)"
   ]
  },
  {
   "cell_type": "markdown",
   "metadata": {},
   "source": [
    "#### The following (less often edited) items are set to default values in the module `loadmod_MERRA`\n",
    "\n",
    "(You can change them in the module if desired, but they are left out here to save space. For \"advanced\" users.)"
   ]
  },
  {
   "cell_type": "code",
   "execution_count": null,
   "metadata": {
    "collapsed": true
   },
   "outputs": [],
   "source": [
    "lonValueName = loadmod_MERRA.lonValueName\n",
    "latValueName = loadmod_MERRA.latValueName\n",
    "timeValueName = loadmod_MERRA.timeValueName\n",
    "startDatetime = loadmod_MERRA.startDatetime\n",
    "\n",
    "var1Edges = loadmod_MERRA.binOptions[var1Name]\n",
    "var2Edges = loadmod_MERRA.binOptions[var2Name]\n",
    "\n",
    "var1FmtStr = loadmod_MERRA.fmtStrOptions[var1Name]\n",
    "var2FmtStr = loadmod_MERRA.fmtStrOptions[var2Name]\n",
    "\n",
    "var1ValueName = loadmod_MERRA.valueNameOptions[var1Name]\n",
    "var2ValueName = loadmod_MERRA.valueNameOptions[var2Name]\n",
    "\n",
    "var1Units = loadmod_MERRA.varUnitOptions[var1Name]\n",
    "var2Units = loadmod_MERRA.varUnitOptions[var2Name]\n",
    "metadata_UD = (var1Name+' vs '+var2Name+': '+\n",
    "               str(lonLow)+' to '+str(lonHigh)+' E, '+\n",
    "               str(latLow)+' to '+str(latHigh)+' N')\n",
    "\n",
    "var1ValueMult = loadmod_MERRA.varMultOptions[var1Name]\n",
    "var2ValueMult = loadmod_MERRA.varMultOptions[var2Name]"
   ]
  },
  {
   "cell_type": "markdown",
   "metadata": {},
   "source": [
    "## (3) Load the Data\n",
    "\n",
    "**N.B.** CHAD currently expects the 3-D variables to be in the Python format `variable[times,latitudes,longitudes]`.<br>\n",
    "If this is not the default, you will have to either permute the data below or preprocess the data so that it matches this format."
   ]
  },
  {
   "cell_type": "code",
   "execution_count": null,
   "metadata": {
    "collapsed": true
   },
   "outputs": [],
   "source": [
    "cdfIn = netCDF4.Dataset(urlToLoad,'r')"
   ]
  },
  {
   "cell_type": "code",
   "execution_count": null,
   "metadata": {
    "collapsed": false
   },
   "outputs": [],
   "source": [
    "lonValues = cdfIn.variables[lonValueName][:]\n",
    "latValues = cdfIn.variables[latValueName][:]\n",
    "timeValues = cdfIn.variables[timeValueName][:]*loadmod_MERRA.timeValueMult"
   ]
  },
  {
   "cell_type": "markdown",
   "metadata": {},
   "source": [
    "#### By finding the needed index ranges here, we can load a subset of the data over the web instead of loading it all and subsetting later."
   ]
  },
  {
   "cell_type": "code",
   "execution_count": null,
   "metadata": {
    "collapsed": false
   },
   "outputs": [],
   "source": [
    "lowLonInt,highLonInt = loadmod_MERRA.getIntEdges(lonValues,lonLow,lonHigh)\n",
    "lowLatInt,highLatInt = loadmod_MERRA.getIntEdges(latValues,latLow,latHigh)"
   ]
  },
  {
   "cell_type": "markdown",
   "metadata": {},
   "source": [
    "*Based on the data chunk you're accessing, the variable load may take some time.*"
   ]
  },
  {
   "cell_type": "code",
   "execution_count": null,
   "metadata": {
    "collapsed": true
   },
   "outputs": [],
   "source": [
    "var1Values = cdfIn.variables[var1ValueName][:,\n",
    "                                            lowLatInt:highLatInt+1,\n",
    "                                            lowLonInt:highLonInt+1]*\\\n",
    "                                            var1ValueMult\n",
    "var2Values = cdfIn.variables[var2ValueName][:,\n",
    "                                            lowLatInt:highLatInt+1,\n",
    "                                            lowLonInt:highLonInt+1]*\\\n",
    "                                            var2ValueMult"
   ]
  },
  {
   "cell_type": "markdown",
   "metadata": {},
   "source": [
    "*(We now subset the longitudes and latitudes since the previous call to getIntEdges needed the full lon/lat.)*"
   ]
  },
  {
   "cell_type": "code",
   "execution_count": null,
   "metadata": {
    "collapsed": true
   },
   "outputs": [],
   "source": [
    "lonValues = lonValues[lowLonInt:highLonInt+1]\n",
    "latValues = latValues[lowLatInt:highLatInt+1]"
   ]
  },
  {
   "cell_type": "code",
   "execution_count": null,
   "metadata": {
    "collapsed": true
   },
   "outputs": [],
   "source": [
    "cdfIn.close()"
   ]
  },
  {
   "cell_type": "markdown",
   "metadata": {},
   "source": [
    "## (4) Create ClickHist and ClickHistDo Instances"
   ]
  },
  {
   "cell_type": "markdown",
   "metadata": {},
   "source": [
    "### Initialize 'ClickHistDo'"
   ]
  },
  {
   "cell_type": "code",
   "execution_count": null,
   "metadata": {
    "collapsed": false
   },
   "outputs": [],
   "source": [
    "ClickHistDo1 = ClickHistDo.ClickHistDo(lonValues,latValues,\n",
    "                                       timeValues,startDatetime,\n",
    "                                       bundleInFilenames,\n",
    "                                       bundleOutTags,\n",
    "                                       caseNotebookFilename,\n",
    "                                       xVarName=var1Name,\n",
    "                                       yVarName=var2Name,\n",
    "                                       lonOffset=lonOffset,\n",
    "                                       latOffset=latOffset,\n",
    "                                       dtFromCenter=dtFromCenter)"
   ]
  },
  {
   "cell_type": "markdown",
   "metadata": {},
   "source": [
    "### Initialize 'ClickHist' and launch!"
   ]
  },
  {
   "cell_type": "markdown",
   "metadata": {},
   "source": [
    "If you want the output of CHAD to be in a separate window, make sure `%qtconsole` below is not commented. Otherwise, the text output will appear below the last cell."
   ]
  },
  {
   "cell_type": "code",
   "execution_count": null,
   "metadata": {
    "collapsed": false
   },
   "outputs": [],
   "source": [
    "#%qtconsole\n",
    "ClickHist1 = ClickHist.ClickHist(var1Edges,var2Edges,\n",
    "                                 var1Values,var2Values,\n",
    "                                 xVarName=var1Name,yVarName=var2Name,\n",
    "                                 xUnits=var1Units,yUnits=var2Units,\n",
    "                                 xFmtStr=var1FmtStr,\n",
    "                                 yFmtStr=var2FmtStr,\n",
    "                                 maxPlottedInBin=loadmod_MERRA.maxPlottedInBin_UD,\n",
    "                                 quantiles=quantiles,\n",
    "                                 metadata=metadata_UD)\n",
    "ClickHist1.setDo(ClickHistDo1)\n",
    "ClickHist1.showPlot()"
   ]
  },
  {
   "cell_type": "code",
   "execution_count": null,
   "metadata": {
    "collapsed": true
   },
   "outputs": [],
   "source": []
  }
 ],
 "metadata": {
  "kernelspec": {
   "display_name": "Python 2",
   "language": "python",
   "name": "python2"
  },
  "language_info": {
   "codemirror_mode": {
    "name": "ipython",
    "version": 2
   },
   "file_extension": ".py",
   "mimetype": "text/x-python",
   "name": "python",
   "nbconvert_exporter": "python",
   "pygments_lexer": "ipython2",
   "version": "2.7.11"
  }
 },
 "nbformat": 4,
 "nbformat_minor": 0
}
